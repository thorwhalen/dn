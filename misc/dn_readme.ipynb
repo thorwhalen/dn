{
 "cells": [
  {
   "cell_type": "markdown",
   "id": "c55cedbd",
   "metadata": {},
   "source": [
    "# dn\n",
    "\n",
    "Markdown parsing and generation\n",
    "\n",
    "To install: `pip install dn`"
   ]
  },
  {
   "cell_type": "markdown",
   "id": "2c32ac46",
   "metadata": {},
   "source": [
    "## Optional Dependencies\n",
    "\n",
    "This package supports converting various file formats to Markdown, with each format requiring specific dependencies:\n",
    "\n",
    "\n",
    "    Format      Required Package(s)\n",
    "    ----------- -----------------\n",
    "    PDF         pypdf\n",
    "    Word        mammoth\n",
    "    Excel       pandas, openpyxl, tabulate\n",
    "    PowerPoint  python-pptx\n",
    "    HTML        html2text\n",
    "    Notebooks   nbconvert, nbformat\n",
    "\n",
    "**Installation Options**\n",
    "\n",
    "You can install these dependencies after the fact, if and when package complains it needs some specific resource. \n",
    "\n",
    "You can also install these when installing `dn`, like so:\n",
    "\n",
    "```bash\n",
    "    # Install with minimal dependencies\n",
    "    pip install dn\n",
    "\n",
    "    # Install with support for specific formats\n",
    "    pip install dn[pdf]               # PDF conversion support\n",
    "    pip install dn[word]              # Word document support\n",
    "    pip install dn[excel]             # Excel support\n",
    "    pip install dn[powerpoint]        # PowerPoint support\n",
    "    pip install dn[html]              # HTML conversion\n",
    "    pip install dn[notebook]          # Jupyter Notebook support\n",
    "\n",
    "    # Install multiple format support\n",
    "    pip install dn[pdf,word,excel]    # Multiple formats\n",
    "\n",
    "    # Install all optional dependencies\n",
    "    pip install dn[all]\n",
    "```"
   ]
  },
  {
   "cell_type": "markdown",
   "id": "b240eb1a",
   "metadata": {},
   "source": [
    "# Examples"
   ]
  },
  {
   "cell_type": "markdown",
   "id": "8b6889d7",
   "metadata": {},
   "source": [
    "## To and from jupyter notebooks"
   ]
  },
  {
   "cell_type": "code",
   "execution_count": 2,
   "id": "7ac05464",
   "metadata": {},
   "outputs": [
    {
     "name": "stdout",
     "output_type": "stream",
     "text": [
      "Created notebook with 5 cells\n",
      "Saved notebook to: /Users/thorwhalen/Dropbox/py/proj/t/dn/misc/sample_notebook.ipynb\n"
     ]
    }
   ],
   "source": [
    "from dn import markdown_to_notebook\n",
    "\n",
    "sample_markdown = \"\"\"# Sample Notebook\n",
    "\n",
    "This is a markdown cell with some explanation.\n",
    "\n",
    "```python\n",
    "# This is a code cell\n",
    "print(\"Hello, World!\")\n",
    "x = 42\n",
    "print(f\"The answer is {x}\")\n",
    "```\n",
    "\n",
    "## Another Section\n",
    "\n",
    "More markdown content here.\n",
    "\n",
    "```python\n",
    "# Another code cell\n",
    "def greet(name):\n",
    "    return f\"Hello, {name}!\"\n",
    "\n",
    "print(greet(\"Jupyter\"))\n",
    "```\n",
    "\n",
    "Final markdown cell.\"\"\"\n",
    "    \n",
    "\n",
    "# Test basic functionality\n",
    "notebook = markdown_to_notebook(sample_markdown)\n",
    "print(f\"Created notebook with {len(notebook['cells'])} cells\")\n",
    "\n",
    "# Test with file output\n",
    "output_path = markdown_to_notebook(\n",
    "    sample_markdown,\n",
    "    egress=\"./sample_notebook.ipynb\"\n",
    ")\n",
    "print(f\"Saved notebook to: {output_path}\")"
   ]
  },
  {
   "cell_type": "code",
   "execution_count": 6,
   "id": "5db9d311",
   "metadata": {},
   "outputs": [
    {
     "name": "stdout",
     "output_type": "stream",
     "text": [
      "# Sample Notebook\n",
      "\n",
      "This is a markdown cell with some explanation.\n",
      "\n",
      "\n",
      "\n",
      "```python\n",
      "# This is a code cell\n",
      "print(\"Hello, World!\")\n",
      "x = 42\n",
      "print(f\"The answer is {x}\")\n",
      "\n",
      "```\n",
      "\n",
      "## Another Section\n",
      "\n",
      "More markdown content here.\n",
      "\n",
      "\n",
      "\n",
      "```python\n",
      "# Another code cell\n",
      "def greet(name):\n",
      "    return f\"Hello, {name}!\"\n",
      "\n",
      "print(greet(\"Jupyter\"))\n",
      "\n",
      "```\n",
      "\n",
      "Final markdown cell.\n",
      "\n",
      "\n"
     ]
    }
   ],
   "source": [
    "from dn import notebook_to_markdown\n",
    "\n",
    "md_string = notebook_to_markdown(notebook)\n",
    "print(md_string)"
   ]
  },
  {
   "cell_type": "markdown",
   "id": "bf9c512a",
   "metadata": {},
   "source": [
    "## ... and other formats"
   ]
  },
  {
   "cell_type": "code",
   "execution_count": null,
   "id": "67d71a40",
   "metadata": {},
   "outputs": [],
   "source": [
    "from dn import pdf_to_markdown  # requires pypdf"
   ]
  },
  {
   "cell_type": "code",
   "execution_count": null,
   "id": "815c0b33",
   "metadata": {},
   "outputs": [],
   "source": [
    "from dn import docx_to_markdown  # requires mammoth"
   ]
  },
  {
   "cell_type": "code",
   "execution_count": null,
   "id": "f9022a71",
   "metadata": {},
   "outputs": [],
   "source": [
    "from dn import excel_to_markdown  # requires pandas"
   ]
  },
  {
   "cell_type": "code",
   "execution_count": null,
   "id": "db711109",
   "metadata": {},
   "outputs": [],
   "source": [
    "from dn import pptx_to_markdown  # requires python-pptx"
   ]
  },
  {
   "cell_type": "code",
   "execution_count": null,
   "id": "ea53b54e",
   "metadata": {},
   "outputs": [],
   "source": [
    "from dn import html_to_markdown  # requires html2text"
   ]
  },
  {
   "cell_type": "markdown",
   "id": "2c22aea1",
   "metadata": {},
   "source": [
    "# Markdown stores"
   ]
  },
  {
   "cell_type": "markdown",
   "id": "bb1fc49a",
   "metadata": {},
   "source": [
    "User story: I have a directory with multiple files in different formats.\n",
    "\n",
    "I want to batch convert all supported files to markdown and store them in memory."
   ]
  },
  {
   "cell_type": "code",
   "execution_count": 11,
   "id": "28674a0f",
   "metadata": {},
   "outputs": [
    {
     "name": "stderr",
     "output_type": "stream",
     "text": [
      "invalid pdf header: b'PK\\x03\\x04\\n'\n",
      "EOF marker not found\n",
      "EOF marker not found\n",
      "invalid pdf header: b'PK\\x03\\x04\\x14'\n",
      "EOF marker not found\n",
      "invalid pdf header: b'\\xef\\xbb\\xbfTh'\n",
      "EOF marker not found\n",
      "invalid pdf header: b'{\\\\rtf'\n",
      "EOF marker not found\n",
      "invalid pdf header: b'# Thi'\n",
      "EOF marker not found\n",
      "invalid pdf header: b'PK\\x03\\x04\\x14'\n",
      "EOF marker not found\n",
      "invalid pdf header: b'PK\\x03\\x04\\x14'\n",
      "EOF marker not found\n"
     ]
    },
    {
     "name": "stdout",
     "output_type": "stream",
     "text": [
      "\n",
      "Supported files (given what packages are installed here): ['test.docx', 'test.pptx', 'test.pdf', 'test.html', 'test.xlsx', 'test.txt', 'test.md', 'test.ipynb']\n",
      "\n"
     ]
    }
   ],
   "source": [
    "from dn import Files, bytes_store_to_markdown_store\n",
    "\n",
    "from dn.tests.utils_for_testing_dn import test_data_dir\n",
    "\n",
    "# Setup source files from test directory\n",
    "src_files = Files(test_data_dir)\n",
    "\n",
    "# Setup target store as an in-memory dictionary\n",
    "target_store = {}\n",
    "\n",
    "# Convert all files in directory to markdown\n",
    "result = bytes_store_to_markdown_store(src_files, target_store, verbose=False)\n",
    "\n",
    "# Check that the result is the target_store\n",
    "assert result is target_store\n",
    "\n",
    "# Verify that the supported file types were converted correctly\n",
    "supported_files = [\n",
    "    \"test.docx\",\n",
    "    \"test.pptx\",\n",
    "    \"test.pdf\",\n",
    "    \"test.html\",\n",
    "    \"test.xlsx\",\n",
    "    \"test.txt\",\n",
    "    \"test.md\",\n",
    "    \"test.ipynb\",\n",
    "]\n",
    "\n",
    "print(f\"\\nSupported files (given what packages are installed here): {supported_files}\\n\")\n",
    "\n",
    "for filename in supported_files:\n",
    "    assert f\"{filename}.md\" in target_store, f\"{filename} not found in target_store\"\n",
    "    assert len(target_store[f\"{filename}.md\"]) > 0, f\"{filename} conversion failed\"\n"
   ]
  },
  {
   "cell_type": "markdown",
   "id": "0d109120",
   "metadata": {},
   "source": [
    "# Convert this notebook into a markdown for the README.md"
   ]
  },
  {
   "cell_type": "code",
   "execution_count": 17,
   "id": "74516964",
   "metadata": {},
   "outputs": [
    {
     "data": {
      "text/plain": [
       "'README.md'"
      ]
     },
     "execution_count": 17,
     "metadata": {},
     "output_type": "execute_result"
    }
   ],
   "source": [
    "from dn import notebook_to_markdown\n",
    "\n",
    "notebook_to_markdown('~/Dropbox/py/proj/t/dn/misc/dn_readme.ipynb', target_file='README.md')"
   ]
  }
 ],
 "metadata": {
  "kernelspec": {
   "display_name": "p10",
   "language": "python",
   "name": "python3"
  },
  "language_info": {
   "codemirror_mode": {
    "name": "ipython",
    "version": 3
   },
   "file_extension": ".py",
   "mimetype": "text/x-python",
   "name": "python",
   "nbconvert_exporter": "python",
   "pygments_lexer": "ipython3",
   "version": "3.10.13"
  }
 },
 "nbformat": 4,
 "nbformat_minor": 5
}
